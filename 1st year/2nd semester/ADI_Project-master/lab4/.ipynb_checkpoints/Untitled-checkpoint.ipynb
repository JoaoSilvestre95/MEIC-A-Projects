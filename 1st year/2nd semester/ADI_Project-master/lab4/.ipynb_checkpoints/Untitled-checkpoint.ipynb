{
 "cells": [
  {
   "cell_type": "code",
   "execution_count": 4,
   "metadata": {},
   "outputs": [],
   "source": [
    "import numpy as np\n",
    "import tabulate as tab\n",
    "\n",
    "#States\n",
    "X = [\"A\", \"B\"]\n",
    "#actions\n",
    "A = [\"Go A\", \"Go B\", \"Peek\"]\n",
    "#Observations\n",
    "Z = [\"Observe A\", \"Observe B\", \"Observe NONE\"]\n",
    "\n",
    "#Actions\n",
    "PGa=np.array([[0.5, 0.5],\n",
    "              [0.5, 0.5]])\n",
    "\n",
    "PGb=np.array([[0.5, 0.5],\n",
    "              [0.5, 0.5]])\n",
    "\n",
    "Po=np.array([[1,0],\n",
    "             [0,1]])\n",
    "\n",
    "#probability Transaction\n",
    "Oga=np.array([[0, 0, 1],\n",
    "              [0, 0, 1]])\n",
    "\n",
    "Ogb=np.array([[0, 0, 1],\n",
    "              [0, 0, 1]])\n",
    "\n",
    "\n",
    "#probability of observing\n",
    "Oo=np.array([[0.9, 0.1, 0],\n",
    "             [0.1, 0.9, 0]])\n",
    "\n",
    "#cost of actions\n",
    "C=np.array([[0, 1, 0.1],\n",
    "            [1, 0, 0.1]])\n"
   ]
  },
  {
   "cell_type": "code",
   "execution_count": null,
   "metadata": {},
   "outputs": [],
   "source": [
    "import random\n",
    "\n",
    "random.choise(10000)\n"
   ]
  }
 ],
 "metadata": {
  "kernelspec": {
   "display_name": "Python 3",
   "language": "python",
   "name": "python3"
  },
  "language_info": {
   "codemirror_mode": {
    "name": "ipython",
    "version": 3
   },
   "file_extension": ".py",
   "mimetype": "text/x-python",
   "name": "python",
   "nbconvert_exporter": "python",
   "pygments_lexer": "ipython3",
   "version": "3.6.4"
  }
 },
 "nbformat": 4,
 "nbformat_minor": 2
}
