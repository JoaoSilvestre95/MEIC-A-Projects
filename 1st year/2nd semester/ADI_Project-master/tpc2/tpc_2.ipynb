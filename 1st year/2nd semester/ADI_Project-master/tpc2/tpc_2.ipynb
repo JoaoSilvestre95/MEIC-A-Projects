{
 "cells": [
  {
   "cell_type": "markdown",
   "metadata": {},
   "source": [
    "1. \n",
    "    a)\n",
    "\n",
    "        X = {1, 2, 3, 4, 5, 6}\n",
    "\n",
    "        A = {U, D, L, R}\n",
    "\n",
    "    b)\n",
    "    \n",
    "    \n",
    "   \n",
    "   "
   ]
  },
  {
   "cell_type": "code",
   "execution_count": 3,
   "metadata": {},
   "outputs": [
    {
     "name": "stdout",
     "output_type": "stream",
     "text": [
      "Pl: \n",
      "      0    1    2    3    4    5\n",
      "--  ---  ---  ---  ---  ---  ---\n",
      " 0  0.8  0.1  0    0.1  0    0\n",
      " 1  0.6  0.2  0.1  0    0.1  0\n",
      " 2  0    0.6  0.3  0    0    0.1\n",
      " 3  0.1  0    0    0.8  0.1  0\n",
      " 4  0    0.1  0    0.6  0.2  0.1\n",
      " 5  0    0    0.1  0    0.6  0.3\n",
      "\n",
      "Pr: \n",
      "      0    1    2    3    4    5\n",
      "--  ---  ---  ---  ---  ---  ---\n",
      " 0  0.3  0.6  0    0.1  0    0\n",
      " 1  0.1  0.2  0.6  0    0.1  0\n",
      " 2  0    0.1  0.8  0    0    0.1\n",
      " 3  0.1  0    0    0.3  0.6  0\n",
      " 4  0    0.1  0    0.1  0.2  0.6\n",
      " 5  0    0    0.1  0    0.1  0.8\n",
      "\n",
      "Pu: \n",
      "      0    1    2    3    4    5\n",
      "--  ---  ---  ---  ---  ---  ---\n",
      " 0  0.8  0.1  0    0.1  0    0\n",
      " 1  0.1  0.7  0.1  0    0.1  0\n",
      " 2  0    0.1  0.8  0    0    0.1\n",
      " 3  0.6  0    0    0.3  0.1  0\n",
      " 4  0    0.6  0    0.1  0.2  0.1\n",
      " 5  0    0    0.6  0    0.1  0.3\n",
      "\n",
      "Pd: \n",
      "      0    1    2    3    4    5\n",
      "--  ---  ---  ---  ---  ---  ---\n",
      " 0  0.3  0.1  0    0.6  0    0\n",
      " 1  0.1  0.2  0.1  0    0.6  0\n",
      " 2  0    0.1  0.3  0    0    0.6\n",
      " 3  0.1  0    0    0.8  0.1  0\n",
      " 4  0    0.1  0    0.1  0.7  0.1\n",
      " 5  0    0    0.1  0    0.1  0.8\n",
      "\n",
      "C: \n",
      "      0    1    2    3\n",
      "--  ---  ---  ---  ---\n",
      " 0  0.1  0.1  0.1  0.1\n",
      " 1  0.1  0.1  0.1  0.1\n",
      " 2  0.1  0.1  0.1  0.1\n",
      " 3  0.1  0.1  0.1  0.1\n",
      " 4  1    1    1    1\n",
      " 5  0    0    0    0\n"
     ]
    }
   ],
   "source": [
    "import numpy as np\n",
    "import tabulate as tab\n",
    "\n",
    "Pl = np.array([[0.8, 0.1, 0, 0.1, 0, 0],\n",
    "               [0.6, 0.2, 0.1, 0, 0.1, 0],\n",
    "               [0, 0.6, 0.3, 0, 0, 0.1],\n",
    "               [0.1, 0, 0, 0.8, 0.1, 0],\n",
    "               [0, 0.1, 0, 0.6, 0.2, 0.1],\n",
    "               [0, 0, 0.1, 0, 0.6, 0.3]])\n",
    "\n",
    "Pr = np.array([[0.3, 0.6, 0, 0.1, 0, 0],\n",
    "               [0.1, 0.2, 0.6, 0, 0.1, 0],\n",
    "               [0, 0.1, 0.8, 0, 0, 0.1],\n",
    "               [0.1, 0, 0, 0.3, 0.6, 0],\n",
    "               [0, 0.1, 0, 0.1, 0.2, 0.6],\n",
    "               [0, 0, 0.1, 0, 0.1, 0.8]])\n",
    "\n",
    "Pu = np.array([[0.8, 0.1, 0, 0.1, 0, 0],\n",
    "               [0.1, 0.7, 0.1, 0, 0.1, 0],\n",
    "               [0, 0.1, 0.8, 0, 0, 0.1],\n",
    "               [0.6, 0, 0, 0.3, 0.1, 0],\n",
    "               [0, 0.6, 0, 0.1, 0.2, 0.1],\n",
    "               [0, 0, 0.6, 0, 0.1, 0.3]])\n",
    "\n",
    "Pd = np.array([[0.3, 0.1, 0, 0.6, 0, 0],\n",
    "               [0.1, 0.2, 0.1, 0, 0.6, 0],\n",
    "               [0, 0.1, 0.3, 0, 0, 0.6],\n",
    "               [0.1, 0, 0, 0.8, 0.1, 0],\n",
    "               [0, 0.1, 0, 0.1, 0.7, 0.1],\n",
    "               [0, 0, 0.1, 0, 0.1, 0.8]])\n",
    "\n",
    "E = np.array([[0.1, 0.1, 0.1, 0.1],\n",
    "               [0.1, 0.1, 0.1, 1],\n",
    "               [0.1, 0.1, 0.1, 0],\n",
    "               [0.1, 1, 0.1, 0.1],\n",
    "               [0.1, 0, 0.1, 1],\n",
    "               [1, 0, 0.1, 0]])\n",
    "\n",
    "C = np.array([[0.1, 0.1, 0.1, 0.1],\n",
    "                [0.1, 0.1, 0.1, 0.1],\n",
    "                [0.1, 0.1, 0.1, 0.1],\n",
    "                [0.1, 0.1, 0.1, 0.1],\n",
    "                [1, 1, 1, 1],\n",
    "                [0, 0, 0, 0]])\n",
    "\n",
    "print(\"Pl: \")\n",
    "print(tab.tabulate(Pl,headers=\"keys\", showindex=\"always\"))\n",
    "print(\"\\nPr: \")\n",
    "print(tab.tabulate(Pr,headers=\"keys\", showindex=\"always\"))\n",
    "print(\"\\nPu: \")\n",
    "print(tab.tabulate(Pu,headers=\"keys\", showindex=\"always\"))\n",
    "print(\"\\nPd: \")\n",
    "print(tab.tabulate(Pd,headers=\"keys\", showindex=\"always\"))\n",
    "\n",
    "print(\"\\nC: \")\n",
    "print(tab.tabulate(C,headers=\"keys\", showindex=\"always\"))\n"
   ]
  },
  {
   "cell_type": "markdown",
   "metadata": {},
   "source": [
    "    c)"
   ]
  },
  {
   "cell_type": "code",
   "execution_count": 4,
   "metadata": {},
   "outputs": [
    {
     "name": "stdout",
     "output_type": "stream",
     "text": [
      "[1.28062328 1.48282118 1.22285691 1.39022903 2.48145131 1.21051144]\n"
     ]
    }
   ],
   "source": [
    "Ju = np.dot(np.linalg.inv(np.subtract(np.eye(6), 0.9*Pu)), C[:,-1])\n",
    "print(Ju)"
   ]
  },
  {
   "cell_type": "code",
   "execution_count": null,
   "metadata": {},
   "outputs": [],
   "source": []
  }
 ],
 "metadata": {
  "kernelspec": {
   "display_name": "Python 3",
   "language": "python",
   "name": "python3"
  },
  "language_info": {
   "codemirror_mode": {
    "name": "ipython",
    "version": 3
   },
   "file_extension": ".py",
   "mimetype": "text/x-python",
   "name": "python",
   "nbconvert_exporter": "python",
   "pygments_lexer": "ipython3",
   "version": "3.6.4"
  }
 },
 "nbformat": 4,
 "nbformat_minor": 2
}
