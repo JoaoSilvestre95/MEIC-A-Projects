{
 "cells": [
  {
   "cell_type": "markdown",
   "metadata": {},
   "source": [
    "\n",
    "a)\n",
    "X = [A,B] #princess at A or B\n",
    "\n",
    "A = [Ga,Gb,O] #invade blind or invade observe\n",
    "\n",
    "Z = [A,B,N] #princes observed at A or B or dont observe\n",
    "\n",
    "\n",
    "\n",
    "\n",
    "\n"
   ]
  },
  {
   "cell_type": "code",
   "execution_count": 10,
   "metadata": {},
   "outputs": [
    {
     "name": "stdout",
     "output_type": "stream",
     "text": [
      "      0    1    2\n",
      "--  ---  ---  ---\n",
      " 0    0    1  0.1\n",
      " 1    1    0  0.1\n"
     ]
    }
   ],
   "source": [
    "import numpy as np\n",
    "import tabulate as tab\n",
    "\"b)\"\n",
    "PGa=np.array([[0.5, 0.5],\n",
    "              [0.5, 0.5]])\n",
    "\n",
    "PGb=np.array([[0.5, 0.5],\n",
    "              [0.5, 0.5]])\n",
    "\n",
    "Po=np.array([[1,0],\n",
    "             [0,1]])\n",
    "\n",
    "Oga=np.array([[0, 0, 1],\n",
    "              [0, 0, 1]])\n",
    "\n",
    "Ogb=np.array([[0, 0, 1],\n",
    "              [0, 0, 1]])\n",
    "\n",
    "Oo=np.array([[0.9, 0.1, 0],\n",
    "             [0.1, 0.9, 0]])\n",
    "\n",
    "C=np.array([[0, 1, 0.1],\n",
    "            [1, 0, 0.1]])\n",
    "\n",
    "#print(tab.tabulate(PGa,headers=\"keys\", showindex=\"always\"))\n",
    "print(tab.tabulate(C,headers=\"keys\", showindex=\"always\"))\n"
   ]
  },
  {
   "cell_type": "code",
   "execution_count": 11,
   "metadata": {},
   "outputs": [
    {
     "name": "stdout",
     "output_type": "stream",
     "text": [
      "[0.20588235 0.79411765]\n"
     ]
    }
   ],
   "source": [
    "bt0 = (np.array([0.7,0.3]).dot(Po)).dot(np.diag(Oo[:,1]))\n",
    "bt = bt0/np.sum(bt0)\n",
    "print(bt)"
   ]
  },
  {
   "cell_type": "code",
   "execution_count": null,
   "metadata": {},
   "outputs": [],
   "source": []
  },
  {
   "cell_type": "code",
   "execution_count": null,
   "metadata": {},
   "outputs": [],
   "source": []
  }
 ],
 "metadata": {
  "kernelspec": {
   "display_name": "Python 3",
   "language": "python",
   "name": "python3"
  },
  "language_info": {
   "codemirror_mode": {
    "name": "ipython",
    "version": 3
   },
   "file_extension": ".py",
   "mimetype": "text/x-python",
   "name": "python",
   "nbconvert_exporter": "python",
   "pygments_lexer": "ipython3",
   "version": "3.6.4"
  }
 },
 "nbformat": 4,
 "nbformat_minor": 2
}
