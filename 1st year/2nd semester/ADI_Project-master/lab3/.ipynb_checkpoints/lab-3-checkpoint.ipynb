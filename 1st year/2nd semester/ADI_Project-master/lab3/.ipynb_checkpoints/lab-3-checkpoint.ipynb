{
 "cells": [
  {
   "cell_type": "markdown",
   "metadata": {},
   "source": [
    "# Learning and Decision Making"
   ]
  },
  {
   "cell_type": "markdown",
   "metadata": {},
   "source": [
    "## Laboratory 3: Markov decision problems\n",
    "\n",
    "In the end of the lab, you should submit all code/answers written in the tasks marked as \"Activity n. XXX\", together with the corresponding outputs and any replies to specific questions posed to the e-mail <adi.tecnico@gmail.com>. Make sure that the subject is of the form [&lt;group n.&gt;] LAB &lt;lab n.&gt;.\n",
    "\n",
    "### 1. Modeling\n",
    "\n",
    "Consider once again the knight domain described in the Homework and which you described as a Markov decision process.\n",
    "\n",
    "<img src=\"knight.png\" width=\"200px\">\n",
    "\n",
    "Recall that:\n",
    "\n",
    "* At each step, the knight may move in any of the four directions---up, down, left and right. \n",
    "\n",
    "* The movement succeeds with a 0.6 probability and fails with a 0.4 probability. When the movement fails, the knight may stay in the same cell or move to one of the immediately adjacent cells (if there is one) with equal probability.\n",
    "\n",
    "* The goal of the knight is to save (reach) the princess and avoid the dragon.\n",
    "\n",
    "**Throughout the lab, use $\\gamma=0.99$.**"
   ]
  },
  {
   "cell_type": "markdown",
   "metadata": {},
   "source": [
    "---\n",
    "\n",
    "#### Activity 1.        \n",
    "\n",
    "Implement your Markov decision process in Python. In particular,\n",
    "\n",
    "* Create a list with all the states;\n",
    "* Create a list with all the actions;\n",
    "* For each action, define a `numpy` array with the corresponding transition probabilities;\n",
    "* Define a `numpy`array with the costs. Make sure that:\n",
    "    * The costs lie in the interval [0, 1]\n",
    "    * The cost for standing in the princess's cell is minimal\n",
    "    * The cost for standing in the dragon's cell is maximal\n",
    "    * The costs for the intermediate cells are around 1/5 of those of standing in the dragon's cell\n",
    "\n",
    "The order for the states and actions used in the transition probability and cost matrices should match that in the lists of states and actions. \n",
    "\n",
    "**Note**: Don't forget to import `numpy`.\n",
    "\n",
    "---"
   ]
  },
  {
   "cell_type": "code",
   "execution_count": 91,
   "metadata": {
    "collapsed": false,
    "raw_mimetype": "text/x-python"
   },
   "outputs": [
    {
     "name": "stdout",
     "output_type": "stream",
     "text": [
      "Each state is defined by a numerical value of zero to five corresponding to the positions on the board of one to six, respectively\n",
      "States:  [0, 1, 2, 3, 4, 5]\n",
      "\n",
      "Each action is defined as 0-left 1-right 2-up 3-down \n",
      "Actions:  [0, 1, 2, 3]\n",
      "\n",
      "Pl: \n",
      " [[ 0.8  0.1  0.   0.1  0.   0. ]\n",
      " [ 0.6  0.2  0.1  0.   0.1  0. ]\n",
      " [ 0.   0.6  0.3  0.   0.   0.1]\n",
      " [ 0.1  0.   0.   0.8  0.1  0. ]\n",
      " [ 0.   0.1  0.   0.6  0.2  0.1]\n",
      " [ 0.   0.   0.1  0.   0.6  0.3]] \n",
      "Pr: \n",
      " [[ 0.3  0.6  0.   0.1  0.   0. ]\n",
      " [ 0.1  0.2  0.6  0.   0.1  0. ]\n",
      " [ 0.   0.1  0.8  0.   0.   0.1]\n",
      " [ 0.1  0.   0.   0.3  0.6  0. ]\n",
      " [ 0.   0.1  0.   0.1  0.2  0.6]\n",
      " [ 0.   0.   0.1  0.   0.1  0.8]] \n",
      "Pu: \n",
      " [[ 0.8  0.1  0.   0.1  0.   0. ]\n",
      " [ 0.1  0.7  0.1  0.   0.1  0. ]\n",
      " [ 0.   0.1  0.8  0.   0.   0.1]\n",
      " [ 0.6  0.   0.   0.3  0.1  0. ]\n",
      " [ 0.   0.6  0.   0.1  0.2  0.1]\n",
      " [ 0.   0.   0.6  0.   0.1  0.3]] \n",
      "Pd: \n",
      " [[ 0.3  0.1  0.   0.6  0.   0. ]\n",
      " [ 0.1  0.2  0.1  0.   0.6  0. ]\n",
      " [ 0.   0.1  0.3  0.   0.   0.6]\n",
      " [ 0.1  0.   0.   0.8  0.1  0. ]\n",
      " [ 0.   0.1  0.   0.1  0.7  0.1]\n",
      " [ 0.   0.   0.1  0.   0.1  0.8]] \n",
      "Cost: \n",
      " [[ 0.2  0.2  0.2  0.2]\n",
      " [ 0.2  0.2  0.2  0.2]\n",
      " [ 0.2  0.2  0.2  0.2]\n",
      " [ 0.2  0.2  0.2  0.2]\n",
      " [ 1.   1.   1.   1. ]\n",
      " [ 0.   0.   0.   0. ]]\n"
     ]
    }
   ],
   "source": [
    "import numpy as np\n",
    "\n",
    "gamma = 0.99\n",
    "\n",
    "states = [0, 1, 2, 3, 4, 5]#number corresponding to each cell\n",
    "\n",
    "actions = [0, 1, 2, 3]#0-left;1-right;2-up;3-down\n",
    "\n",
    "Pl = np.array([[0.8, 0.1, 0, 0.1, 0, 0],\n",
    "               [0.6, 0.2, 0.1, 0, 0.1, 0],\n",
    "               [0, 0.6, 0.3, 0, 0, 0.1],\n",
    "               [0.1, 0, 0, 0.8, 0.1, 0],\n",
    "               [0, 0.1, 0, 0.6, 0.2, 0.1],\n",
    "               [0, 0, 0.1, 0, 0.6, 0.3]])\n",
    "\n",
    "Pr = np.array([[0.3, 0.6, 0, 0.1, 0, 0],\n",
    "               [0.1, 0.2, 0.6, 0, 0.1, 0],\n",
    "               [0, 0.1, 0.8, 0, 0, 0.1],\n",
    "               [0.1, 0, 0, 0.3, 0.6, 0],\n",
    "               [0, 0.1, 0, 0.1, 0.2, 0.6],\n",
    "               [0, 0, 0.1, 0, 0.1, 0.8]])\n",
    "\n",
    "Pu = np.array([[0.8, 0.1, 0, 0.1, 0, 0],\n",
    "               [0.1, 0.7, 0.1, 0, 0.1, 0],\n",
    "               [0, 0.1, 0.8, 0, 0, 0.1],\n",
    "               [0.6, 0, 0, 0.3, 0.1, 0],\n",
    "               [0, 0.6, 0, 0.1, 0.2, 0.1],\n",
    "               [0, 0, 0.6, 0, 0.1, 0.3]])\n",
    "\n",
    "Pd = np.array([[0.3, 0.1, 0, 0.6, 0, 0],\n",
    "               [0.1, 0.2, 0.1, 0, 0.6, 0],\n",
    "               [0, 0.1, 0.3, 0, 0, 0.6],\n",
    "               [0.1, 0, 0, 0.8, 0.1, 0],\n",
    "               [0, 0.1, 0, 0.1, 0.7, 0.1],\n",
    "               [0, 0, 0.1, 0, 0.1, 0.8]])\n",
    "\n",
    "C = np.array([[0.2, 0.2, 0.2, 0.2],\n",
    "                [0.2, 0.2, 0.2, 0.2],\n",
    "                [0.2, 0.2, 0.2, 0.2],\n",
    "                [0.2, 0.2, 0.2, 0.2],\n",
    "                [1, 1, 1, 1],\n",
    "                [0, 0, 0, 0]])\n",
    "\n",
    "print(\"Each state is defined by a numerical value of zero to five corresponding to the positions on the board of one to six, respectively\\nStates: \", states)\n",
    "print(\"\\nEach action is defined as 0-left 1-right 2-up 3-down \\nActions: \", actions)\n",
    "print(\"\\nPl: \\n\", Pl, \"\\nPr: \\n\", Pr, \"\\nPu: \\n\", Pu, \"\\nPd: \\n\", Pd, \"\\nCost: \\n\", C)\n",
    "\n"
   ]
  },
  {
   "cell_type": "markdown",
   "metadata": {},
   "source": [
    "### 2. Prediction\n",
    "\n",
    "You are now going to evaluate a given policy, computing the corresponding cost-to-go."
   ]
  },
  {
   "cell_type": "markdown",
   "metadata": {
    "raw_mimetype": "text/latex"
   },
   "source": [
    "---\n",
    "\n",
    "#### Activity 2.\n",
    "\n",
    "Describe the policy that, in each state $x$, always moves the knight to the cell closest to the princess (irrespectively of the dragon). If multiple such cells exist, the knight should select randomly between the two.\n",
    "\n",
    "For example, suppose that the knight is in cell 1. The knight should then select randomly between the actions _D_ and _R_. Conversely, suppose that the knight is in cell 4. The knight should then select actions _R_ with probability 1.\n",
    "\n",
    "**Note:** The policy should be described as a vector with as many rows as there are states and as many columns as there are actions, where the entry _xa_ has the probability of selecting action _a_ in state _x_.\n",
    "\n",
    "---"
   ]
  },
  {
   "cell_type": "code",
   "execution_count": 92,
   "metadata": {
    "collapsed": false
   },
   "outputs": [
    {
     "name": "stdout",
     "output_type": "stream",
     "text": [
      "Policy: \n",
      " [[ 0.   0.5  0.   0.5]\n",
      " [ 0.   0.5  0.   0.5]\n",
      " [ 0.   0.   0.   1. ]\n",
      " [ 0.   1.   0.   0. ]\n",
      " [ 0.   1.   0.   0. ]\n",
      " [ 0.   0.5  0.   0.5]]\n"
     ]
    }
   ],
   "source": [
    "pol = np.array([[0, 0.5, 0, 0.5],\n",
    "                [0, 0.5, 0, 0.5],\n",
    "                [0, 0, 0, 1],\n",
    "                [0, 1, 0, 0],\n",
    "                [0, 1, 0, 0],\n",
    "                [0, 0.5, 0, 0.5]])\n",
    "\n",
    "print(\"Policy: \\n\", pol)\n"
   ]
  },
  {
   "cell_type": "markdown",
   "metadata": {},
   "source": [
    "---\n",
    "\n",
    "#### Activity 3.\n",
    "\n",
    "Compute the cost-to-go function $J^\\pi$ associated with the policy from Activity 2.\n",
    "\n",
    "---"
   ]
  },
  {
   "cell_type": "code",
   "execution_count": 93,
   "metadata": {
    "collapsed": false
   },
   "outputs": [
    {
     "name": "stdout",
     "output_type": "stream",
     "text": [
      "Cost-to-go funtion: \n",
      " [ 16.26056701  15.95826371  15.28584405  16.45495016  16.42766638\n",
      "  15.09441121]\n"
     ]
    }
   ],
   "source": [
    "Ppol = pol[:,0, None]*Pl + pol[:,1, None]*Pr + pol[:,2, None]*Pu + pol[:,3, None]*Pd\n",
    "\n",
    "Cpol = (C * pol).sum(axis=1)#pol[:,0]*C[:,0] + pol[:,1]*C[:,1] + pol[:,2]*C[:,2] + pol[:,3]*C[:,3]\n",
    "\n",
    "Ju = np.linalg.inv(np.subtract(np.eye(6), gamma*Ppol)).dot(Cpol)\n",
    "print(\"Cost-to-go funtion: \\n\", Ju)"
   ]
  },
  {
   "cell_type": "markdown",
   "metadata": {},
   "source": [
    "### 3. Control\n",
    "\n",
    "In this section you are going to compare value and policy iteration, both in terms of time and number of iterations."
   ]
  },
  {
   "cell_type": "markdown",
   "metadata": {},
   "source": [
    "---\n",
    "\n",
    "#### Activity 4\n",
    "\n",
    "Show that the policy in Activity 3 is _not_ optimal: use value iteration to compute $J^*$ and show that $J^*\\neq J^\\pi$. Track the time and the number of iterations taken to compute $J^*$.\n",
    "\n",
    "**Note 1:** Stop the algorithm when the error between iterations is smaller than $10^{-8}$.\n",
    "\n",
    "**Note 2:** You may find useful the function ``time()`` from the module ``time``.\n",
    "\n",
    "---"
   ]
  },
  {
   "cell_type": "code",
   "execution_count": 94,
   "metadata": {
    "collapsed": false,
    "scrolled": false
   },
   "outputs": [
    {
     "name": "stdout",
     "output_type": "stream",
     "text": [
      "Cost-to-go: \n",
      " [[ 14.06797074]\n",
      " [ 13.93809867]\n",
      " [ 13.67954678]\n",
      " [ 14.24800834]\n",
      " [ 14.74722471]\n",
      " [ 13.53004987]]\n",
      "\n",
      "Number of iterations:  1726\n",
      "\n",
      "Time of computation:  0.07177138328552246  seconds\n",
      "\n",
      "We confirm that the cost-to-go in activity 3 isn't optimal since the J* in this activity have lower values.\n"
     ]
    }
   ],
   "source": [
    "import time\n",
    "\n",
    "cost_left = np.reshape(C[:,0], (6,1))\n",
    "cost_right = np.reshape(C[:,1], (6,1))\n",
    "cost_up = np.reshape(C[:,2], (6,1))\n",
    "cost_down = np.reshape(C[:,3], (6,1))\n",
    "\n",
    "J = np.zeros((6,1))\n",
    "err = 1\n",
    "i = 0\n",
    "\n",
    "start = time.time()\n",
    "while err > 1e-8:\n",
    "    Ql = cost_left + gamma*Pl.dot(J)\n",
    "    Qr = cost_right + gamma*Pr.dot(J)\n",
    "    Qu = cost_up + gamma*Pu.dot(J)\n",
    "    Qd = cost_down + gamma*Pd.dot(J)\n",
    "    Jnew = np.min((Ql, Qr, Qu, Qd), axis=0)\n",
    "    err = np.linalg.norm(Jnew - J)\n",
    "    i += 1\n",
    "    J = Jnew\n",
    "end = time.time()\n",
    "print(\"Cost-to-go: \\n\", J)\n",
    "print(\"\\nNumber of iterations: \", i)\n",
    "print(\"\\nTime of computation: \", end-start, \" seconds\") \n",
    "print(\"\\nWe confirm that the cost-to-go in activity 3 isn't optimal since the J* in this activity have lower values.\")"
   ]
  },
  {
   "cell_type": "markdown",
   "metadata": {},
   "source": [
    "---\n",
    "\n",
    "#### Activity 5\n",
    "\n",
    "Compute once again the optimal policy now using policy iteration. Track the time and number of iterations taken and compare to those of Activity 4.\n",
    "\n",
    "**Note:** If you find that numerical errors affect your computations (especially when comparing two values/arrays) you may use the `numpy` function `isclose` with adequately set absolute and relative tolerance parameters (e.g., $10^{-8}$).\n",
    "\n",
    "---"
   ]
  },
  {
   "cell_type": "code",
   "execution_count": 95,
   "metadata": {
    "collapsed": false,
    "scrolled": false
   },
   "outputs": [
    {
     "name": "stdout",
     "output_type": "stream",
     "text": [
      "Number of iterations:  3\n",
      "\n",
      "Optimal Policy: \n",
      " [[ 0.   1.   0.   0. ]\n",
      " [ 0.   1.   0.   0. ]\n",
      " [ 0.   0.   0.   1. ]\n",
      " [ 0.   0.   1.   0. ]\n",
      " [ 0.   1.   0.   0. ]\n",
      " [ 0.   0.5  0.   0.5]]\n",
      "\n",
      "Time to Compute 0.0018508434295654297 seconds\n",
      "\n",
      "The time and number of iterations with this approach are much lower than those of activity 4\n"
     ]
    }
   ],
   "source": [
    "np.reshape(C[:,0], (6,1))\n",
    "\n",
    "pi = np.ones((6, 4)) / 4\n",
    "quit = False\n",
    "i = 0\n",
    "start = time.time()\n",
    "while not quit:\n",
    "    cpi = np.diag(pi[:,0]).dot(cost_left)\\\n",
    "    + np.diag(pi[:,1]).dot(cost_right)\\\n",
    "    + np.diag(pi[:,2]).dot(cost_up)\\\n",
    "    + np.diag(pi[:,3]).dot(cost_down)\n",
    "    \n",
    "    Ppi = np.diag(pi[:,0]).dot(Pl)\\\n",
    "    + np.diag(pi[:,1]).dot(Pr)\\\n",
    "    + np.diag(pi[:,2]).dot(Pu)\\\n",
    "    + np.diag(pi[:,3]).dot(Pd)\n",
    "    \n",
    "    J = np.linalg.inv(np.eye(6) - gamma * Ppi).dot(cpi)\n",
    "    \n",
    "    \n",
    "    Ql = cost_left + gamma * Pl.dot(J)\n",
    "    Qr = cost_right + gamma * Pr.dot(J)\n",
    "    Qu = cost_up + gamma * Pu.dot(J)\n",
    "    Qd = cost_down + gamma * Pd.dot(J)\n",
    "    \n",
    "    pinew = np.zeros((6,4))\n",
    "    \n",
    "    pinew[:, 0, None] = np.isclose(Ql, np.min([Ql, Qr, Qu, Qd], axis=0), atol=1e-8, rtol=1e-8).astype(int)\n",
    "    pinew[:, 1, None] = np.isclose(Qr, np.min([Ql, Qr, Qu, Qd], axis=0), atol=1e-8, rtol=1e-8).astype(int)\n",
    "    pinew[:, 2, None] = np.isclose(Qu, np.min([Ql, Qr, Qu, Qd], axis=0), atol=1e-8, rtol=1e-8).astype(int)\n",
    "    pinew[:, 3, None] = np.isclose(Qd, np.min([Ql, Qr, Qu, Qd], axis=0), atol=1e-8, rtol=1e-8).astype(int)\n",
    "    \n",
    "    pinew = pinew / np.sum(pinew, axis=1, keepdims = True)\n",
    "    \n",
    "    quit = (pi == pinew).all()\n",
    "    \n",
    "    pi = pinew\n",
    "    i += 1\n",
    "\n",
    "end = time.time()    \n",
    "print(\"Number of iterations: \", i)\n",
    "print(\"\\nOptimal Policy: \\n\", pi)\n",
    "print(\"\\nTime to Compute\", end-start, \"seconds\")\n",
    "print(\"\\nThe time and number of iterations with this approach are much lower than those of activity 4\")\n"
   ]
  },
  {
   "cell_type": "markdown",
   "metadata": {},
   "source": [
    " ### 4. Simulation\n",
    "\n",
    "Finally, in this section you will check whether the theoretical computations of the cost-to-go actually correspond to the cost incurred by an agent following a policy."
   ]
  },
  {
   "cell_type": "markdown",
   "metadata": {},
   "source": [
    "---\n",
    "\n",
    "#### Activity 6\n",
    "\n",
    "Starting both in cell 1 and cell 5 in the figure, \n",
    "\n",
    "* Generate **100** trajectories of 10,000 steps each, following the optimal policy for the MDP. \n",
    "* For each trajectory, compute the accumulated (discounted) cost. \n",
    "* Compute the average cost over the 100 trajectories.\n",
    "* Compare the resulting value with that computed in Activity 4 for the two states. \n",
    "\n",
    "** Note:** The simulation may take a bit of time, don't despair ☺️.\n",
    "\n",
    "---"
   ]
  },
  {
   "cell_type": "code",
   "execution_count": 96,
   "metadata": {
    "collapsed": false
   },
   "outputs": [
    {
     "name": "stdout",
     "output_type": "stream",
     "text": [
      "Cell  1  Cost:  13.7171897104\n",
      "Cell  5  Cost:  14.7274267843\n",
      "\n",
      "For cell 1 and 5, both costs are lower than those of activity 4.\n"
     ]
    }
   ],
   "source": [
    "from numpy import random as rnd\n",
    "\n",
    "p_dict = {0: Pl, 1: Pr, 2: Pu, 3: Pd}\n",
    "problem_states = [0, 4]\n",
    "for p_s in problem_states:\n",
    "    trajectories = 0\n",
    "    cumcost = []\n",
    "    while trajectories < 100:\n",
    "        cost = 0\n",
    "        step = 0\n",
    "        state = p_s\n",
    "        g = 1 #gamma\n",
    "        while step < 10000:\n",
    "            next_action = rnd.choice(actions, p = pi[state])\n",
    "            cost += C[state][next_action] * g\n",
    "            g *= 0.99\n",
    "            next_state = rnd.choice(states, p = p_dict[next_action][state])\n",
    "            state = next_state\n",
    "            step += 1\n",
    "        cumcost.append(cost) \n",
    "        trajectories += 1\n",
    "    print(\"Cell \", p_s + 1, \" Cost: \", np.sum(cumcost)/100)\n",
    "print(\"\\nCell 1 as a lower cost than cell 5, like in activity 4.\")"
   ]
  },
  {
   "cell_type": "code",
   "execution_count": null,
   "metadata": {
    "collapsed": true
   },
   "outputs": [],
   "source": []
  }
 ],
 "metadata": {
  "celltoolbar": "Raw Cell Format",
  "kernelspec": {
   "display_name": "Python 3",
   "language": "python",
   "name": "python3"
  },
  "language_info": {
   "codemirror_mode": {
    "name": "ipython",
    "version": 3
   },
   "file_extension": ".py",
   "mimetype": "text/x-python",
   "name": "python",
   "nbconvert_exporter": "python",
   "pygments_lexer": "ipython3",
   "version": "3.4.6"
  }
 },
 "nbformat": 4,
 "nbformat_minor": 1
}
